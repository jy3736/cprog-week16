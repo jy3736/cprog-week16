{
 "cells": [
  {
   "cell_type": "markdown",
   "id": "0e93724e-9de8-4801-8858-b4964ac79037",
   "metadata": {},
   "source": [
    "## 課堂練習 03 - 計算一維陣列長度 + 使用巨集(Macro)"
   ]
  },
  {
   "cell_type": "code",
   "execution_count": 35,
   "id": "a30e1698-8c83-4161-abea-25a20d914964",
   "metadata": {},
   "outputs": [],
   "source": [
    "#include <iostream>\n",
    "#include <iomanip>\n",
    "\n",
    "using namespace std;"
   ]
  },
  {
   "cell_type": "markdown",
   "id": "8aa4c055-c667-43d2-b4b7-07a28920a7ba",
   "metadata": {},
   "source": [
    "#### 宣告兩個測試用陣列：a1 及 a2\n",
    "- a1 ：給定長度及初始值\n",
    "- a2 ：沒有設定長度，只給初始值\n",
    "    - 編譯器會依據`初始值`設定陣列長度"
   ]
  },
  {
   "cell_type": "code",
   "execution_count": 55,
   "id": "cbddf83c-4732-49ec-9d28-8e30d856c3ac",
   "metadata": {},
   "outputs": [],
   "source": [
    "int a1[6] = {1, 4, 2, 5, 6, 7};\n",
    "int a2[] = {1, 4, 2, 5, 6, 7, 8, 9};"
   ]
  },
  {
   "cell_type": "markdown",
   "id": "776beb1e-d3ac-46a1-960f-76496ef32530",
   "metadata": {
    "tags": []
   },
   "source": [
    "### 陣列輸出函數\n",
    "- d   ：陣列\n",
    "- len ：陣列 d 的長度(幾個元素)\n",
    "- 每一行最多印20個元素，每一筆資料的寬度為4個字元"
   ]
  },
  {
   "cell_type": "code",
   "execution_count": 56,
   "id": "5bf9e566-d519-4319-a9c5-fa9d7b646867",
   "metadata": {
    "tags": []
   },
   "outputs": [],
   "source": [
    "void dump(int d[], int len) {\n",
    "    for(int i=0; i<len; i++) {\n",
    "        cout<<setw(4)<<d[i];\n",
    "        if ((i+1)%20==0)\n",
    "            cout<<endl;\n",
    "    }\n",
    "    cout<<endl;\n",
    "}"
   ]
  },
  {
   "cell_type": "markdown",
   "id": "bda09088-efd5-4b3c-9873-ad514d59b837",
   "metadata": {},
   "source": [
    "### 使用 `sizeof` 計算陣列長度\n",
    "- `sizeof` 的單位為位元組(bytes)\n",
    "- `sizeof(a1)` 回傳a1陣列使用幾個位元組數\n",
    "- `sizeof(int)` 回傳1個整數使用幾個位元組\n",
    "- `sizeof(a1)/sizeof(int)` 計算`a1陣列`有幾個`整數`元素"
   ]
  },
  {
   "cell_type": "code",
   "execution_count": 52,
   "id": "98b5492f-7b37-4f31-a12d-07bdc7c046e7",
   "metadata": {},
   "outputs": [
    {
     "name": "stdout",
     "output_type": "stream",
     "text": [
      "   1   4   2   5   6   7\n",
      "   1   4   2   5   6   7   8   9\n",
      "6\n",
      "8\n",
      "   1   4   2   5   6   7\n",
      "   1   4   2   5   6   7   8   9\n"
     ]
    }
   ],
   "source": [
    "dump(a1,6);\n",
    "dump(a2,8);\n",
    "\n",
    "cout<<sizeof(a1)/sizeof(int)<<endl;\n",
    "cout<<sizeof(a2)/sizeof(int)<<endl;\n",
    "int a1_len = sizeof(a1)/sizeof(int);\n",
    "int a2_len = sizeof(a2)/sizeof(int);\n",
    "\n",
    "dump(a1,a1_len);\n",
    "dump(a2,a2_len);"
   ]
  },
  {
   "cell_type": "code",
   "execution_count": 53,
   "id": "ce2ce108-1976-4f7d-8b5e-472a77d2c58d",
   "metadata": {},
   "outputs": [
    {
     "name": "stdout",
     "output_type": "stream",
     "text": [
      "   1   4   3   6   7   8   9   0   2\n"
     ]
    }
   ],
   "source": [
    "int a3[] = {1,4,3,6,7,8,9,0,2};\n",
    "dump(a3,sizeof(a3)/sizeof(int));"
   ]
  },
  {
   "cell_type": "markdown",
   "id": "4bc77485-f854-4e51-8185-13a5c310cf26",
   "metadata": {},
   "source": [
    "### 使用巨集簡化函數的呼叫\n",
    "- 使用 `#define` 定義巨集\n",
    "    - `#define M_dump(a) dump(a,sizeof(a)/sizeof(int))`\n",
    "- M_dump(...) 巨集使用範例\n",
    "    - M_dump(x)\n",
    "        - 巨集展開成：`dump(x,sizeof(x)/sizeof(int))`\n",
    "    - M_dump(a1)\n",
    "        - 巨集展開成：`dump(a1,sizeof(a1)/sizeof(int))`\n",
    "        "
   ]
  },
  {
   "cell_type": "code",
   "execution_count": 54,
   "id": "cc136871-f3d4-48b9-9316-8fd543f69c1d",
   "metadata": {},
   "outputs": [
    {
     "name": "stdout",
     "output_type": "stream",
     "text": [
      "   3   4   5   3   2   4   5   6   7   8   9\n",
      "   5   5   5   5   5   5   5\n",
      "   1   2   3   4   5   6\n"
     ]
    }
   ],
   "source": [
    "#define M_dump(a) dump(a,sizeof(a)/sizeof(int))\n",
    "\n",
    "int a4[] = {3,4,5,3,2,4,5,6,7,8,9};\n",
    "int a5[] = {5,5,5,5,5,5,5};\n",
    "int a6[] = {1,2,3,4,5,6};\n",
    "\n",
    "M_dump(a4);   \n",
    "M_dump(a5);   \n",
    "M_dump(a6);   "
   ]
  }
 ],
 "metadata": {
  "kernelspec": {
   "display_name": "C++14",
   "language": "C++14",
   "name": "xcpp14"
  },
  "language_info": {
   "codemirror_mode": "text/x-c++src",
   "file_extension": ".cpp",
   "mimetype": "text/x-c++src",
   "name": "c++",
   "version": "14"
  }
 },
 "nbformat": 4,
 "nbformat_minor": 5
}
