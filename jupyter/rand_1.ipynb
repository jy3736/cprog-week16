{
 "cells": [
  {
   "cell_type": "code",
   "execution_count": 3,
   "id": "a30e1698-8c83-4161-abea-25a20d914964",
   "metadata": {},
   "outputs": [],
   "source": [
    "#include <iostream>\n",
    "#include <iomanip>\n",
    "\n",
    "using namespace std;"
   ]
  },
  {
   "cell_type": "code",
   "execution_count": 17,
   "id": "5bf9e566-d519-4319-a9c5-fa9d7b646867",
   "metadata": {
    "tags": []
   },
   "outputs": [],
   "source": [
    "void dump(int d[], int len) {\n",
    "    for(int i=0; i<len; i++)\n",
    "        cout<<setw(5)<<d[i];\n",
    "    cout<<endl;\n",
    "}"
   ]
  },
  {
   "cell_type": "code",
   "execution_count": 10,
   "id": "79670cb2-2edd-4652-8e11-504d75caf166",
   "metadata": {},
   "outputs": [
    {
     "name": "stdout",
     "output_type": "stream",
     "text": [
      "1507257019 503091032 1107028518 680471104 412560678 \n"
     ]
    }
   ],
   "source": [
    "#include <random>\n",
    "\n",
    "void test_rand() {\n",
    "    for(int i=0; i<5; i++)\n",
    "        cout<<rand()<<\" \";\n",
    "    cout<<endl;\n",
    "}\n",
    "\n",
    "test_rand();"
   ]
  },
  {
   "cell_type": "code",
   "execution_count": 12,
   "id": "a5699c08-8845-4f83-a4dd-4cc32cd0c9d8",
   "metadata": {},
   "outputs": [],
   "source": [
    "int dice() {\n",
    "    return rand()%6+1;\n",
    "}"
   ]
  },
  {
   "cell_type": "code",
   "execution_count": 14,
   "id": "6db17297-13ea-41d7-b2ce-f1c2e51c18e3",
   "metadata": {},
   "outputs": [
    {
     "name": "stdout",
     "output_type": "stream",
     "text": [
      "4  6  2  2  6  6  4  5  6  5  3  4  4  5  2  1  1  1  5  3  6  3  1  2  1  3  1  1  5  2  6  6  5  6  5  4  3  3  6  1  5  6  4  6  5  5  1  3  5  5  5  4  5  5  3  6  5  2  6  1  3  4  4  1  1  3  2  3  5  6  1  1  5  4  1  1  2  5  3  4  3  5  6  5  1  2  4  3  3  2  3  3  3  1  1  3  1  1  3  5  \n"
     ]
    }
   ],
   "source": [
    "void test_dice(int n) {\n",
    "    for(int i=0; i<n; i++)\n",
    "        cout<<left<<setw(3)<<dice();\n",
    "    cout<<endl;\n",
    "}\n",
    "\n",
    "test_dice(100);"
   ]
  },
  {
   "cell_type": "code",
   "execution_count": 15,
   "id": "e13b2861-fa90-4675-a603-020c0535f28f",
   "metadata": {},
   "outputs": [],
   "source": [
    "void analysis(int rn[], int len, int cnt[]) {\n",
    "    for(int i=0; i<7; i++)\n",
    "        cnt[i] = 0;\n",
    "    cnt[0] = len;\n",
    "    for(int i=0; i<len; i++) \n",
    "        cnt[rn[i]]++;\n",
    "}"
   ]
  },
  {
   "cell_type": "code",
   "execution_count": 20,
   "id": "3e4ea298-8800-42d2-a321-895b36a41469",
   "metadata": {},
   "outputs": [],
   "source": [
    "void roll_dice(int rn[], int len) {\n",
    "    for(int i=0; i<len; i++)\n",
    "        rn[i] = dice();\n",
    "}"
   ]
  },
  {
   "cell_type": "code",
   "execution_count": 21,
   "id": "95f51480-d906-40a6-b945-f48e5e2bdbd6",
   "metadata": {},
   "outputs": [
    {
     "name": "stdout",
     "output_type": "stream",
     "text": [
      "5    1    3    3    5    1    5    6    2    6    2    3    6    2    6    1    2    1    6    1    4    2    6    4    4    3    1    6    3    4    1    2    5    3    2    1    1    4    6    1    3    6    3    1    5    1    1    6    5    6    5    6    2    2    3    3    4    4    2    4    5    6    5    3    1    5    4    1    2    1    1    5    4    2    3    2    6    3    6    2    1    4    2    6    5    4    6    6    5    2    3    4    5    6    4    3    2    5    2    3    \n"
     ]
    }
   ],
   "source": [
    "const int LEN = 100;\n",
    "int rd[LEN];\n",
    "\n",
    "roll_dice(rd,LEN);\n",
    "dump(rd,LEN);"
   ]
  },
  {
   "cell_type": "code",
   "execution_count": 37,
   "id": "0067ff93-7e7b-4303-bb61-c7eaa2520812",
   "metadata": {},
   "outputs": [
    {
     "name": "stdout",
     "output_type": "stream",
     "text": [
      "4    4    3    4    4    4    1    6    2    4    5    3    2    6    4    2    3    1    5    3    1    5    4    2    2    6    5    4    4    3    2    6    5    2    3    2    5    1    2    4    2    4    4    3    3    2    5    3    6    3    5    4    5    2    6    6    1    2    1    5    5    6    2    3    1    2    2    4    2    1    5    3    4    3    3    4    2    1    6    5    1    4    2    5    4    1    3    4    1    1    6    5    1    1    5    5    6    4    2    1    \n",
      "\n",
      "100  16   20   15   21   17   11   \n"
     ]
    }
   ],
   "source": [
    "int cd[7];\n",
    "roll_dice(rd,LEN);\n",
    "analysis(rd,LEN,cd);\n",
    "dump(rd,LEN);\n",
    "cout<<endl;\n",
    "dump(cd,7);"
   ]
  },
  {
   "cell_type": "code",
   "execution_count": null,
   "id": "001735b9-571a-4e4d-8991-79d0190cdab1",
   "metadata": {},
   "outputs": [],
   "source": []
  }
 ],
 "metadata": {
  "kernelspec": {
   "display_name": "C++14",
   "language": "C++14",
   "name": "xcpp14"
  },
  "language_info": {
   "codemirror_mode": "text/x-c++src",
   "file_extension": ".cpp",
   "mimetype": "text/x-c++src",
   "name": "c++",
   "version": "14"
  }
 },
 "nbformat": 4,
 "nbformat_minor": 5
}
