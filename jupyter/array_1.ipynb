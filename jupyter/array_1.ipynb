{
 "cells": [
  {
   "cell_type": "code",
   "execution_count": 1,
   "id": "a30e1698-8c83-4161-abea-25a20d914964",
   "metadata": {},
   "outputs": [],
   "source": [
    "#include <iostream>\n",
    "#include <iomanip>\n",
    "\n",
    "using namespace std;"
   ]
  },
  {
   "cell_type": "code",
   "execution_count": 2,
   "id": "753ee380-0566-4cc4-abe5-bc9679b8df79",
   "metadata": {},
   "outputs": [
    {
     "name": "stdout",
     "output_type": "stream",
     "text": [
      "Hello C++ World!\n"
     ]
    }
   ],
   "source": [
    "cout<<\"Hello C++ World!\"<<endl;"
   ]
  },
  {
   "cell_type": "code",
   "execution_count": 3,
   "id": "cbddf83c-4732-49ec-9d28-8e30d856c3ac",
   "metadata": {},
   "outputs": [
    {
     "name": "stdout",
     "output_type": "stream",
     "text": [
      "0x7f4b6b3f4030\n"
     ]
    }
   ],
   "source": [
    "int d[10];\n",
    "\n",
    "int* p = d;\n",
    "cout<<p<<endl;"
   ]
  },
  {
   "cell_type": "code",
   "execution_count": 4,
   "id": "39142b1b-ce80-4405-9855-9b769fc6097b",
   "metadata": {},
   "outputs": [
    {
     "name": "stdout",
     "output_type": "stream",
     "text": [
      "0x7f4b6b3f4030\n"
     ]
    }
   ],
   "source": [
    "cout<<&d[0]<<endl;"
   ]
  },
  {
   "cell_type": "code",
   "execution_count": 5,
   "id": "fd293411-da6d-4900-806c-09ad5dde99b0",
   "metadata": {},
   "outputs": [
    {
     "name": "stdout",
     "output_type": "stream",
     "text": [
      "d[0] = 55\n"
     ]
    }
   ],
   "source": [
    "d[0] = 55;\n",
    "cout<<\"d[0] = \"<<d[0]<<endl;"
   ]
  },
  {
   "cell_type": "code",
   "execution_count": 6,
   "id": "f071e815-4ab4-4478-897e-b13366269b75",
   "metadata": {},
   "outputs": [
    {
     "name": "stdout",
     "output_type": "stream",
     "text": [
      "d[0] = 66\n"
     ]
    }
   ],
   "source": [
    "*p = 66;\n",
    "cout<<\"d[0] = \"<<d[0]<<endl;"
   ]
  },
  {
   "cell_type": "code",
   "execution_count": 7,
   "id": "4f6733a9-8991-494e-a126-df46f15e5f8d",
   "metadata": {},
   "outputs": [],
   "source": [
    "void seq(int d[], int len, int start, int step) {\n",
    "    for(int i=0; i<len; i++) {\n",
    "        d[i] = start;\n",
    "        start+=step;\n",
    "    }\n",
    "}"
   ]
  },
  {
   "cell_type": "code",
   "execution_count": 8,
   "id": "5bf9e566-d519-4319-a9c5-fa9d7b646867",
   "metadata": {
    "tags": []
   },
   "outputs": [],
   "source": [
    "void dump_int_array(int d[], int len) {\n",
    "    for(int i=0; i<len; i++)\n",
    "        cout<<setw(5)<<d[i];\n",
    "    cout<<endl;\n",
    "}\n",
    "\n",
    "#define dump(d) dump_int_array(d,sizeof(d)/sizeof(int))"
   ]
  },
  {
   "cell_type": "code",
   "execution_count": 9,
   "id": "a776621c-9478-4e92-be05-cc8cec24afaf",
   "metadata": {},
   "outputs": [
    {
     "name": "stdout",
     "output_type": "stream",
     "text": [
      "    1    2    3    4    5    6\n"
     ]
    }
   ],
   "source": [
    "int d[] = {1,2,3,4,5,6};\n",
    "int len = sizeof(d)/sizeof(int);\n",
    "dump(d);"
   ]
  },
  {
   "cell_type": "code",
   "execution_count": 10,
   "id": "84261d0a-350f-4771-8230-3955044447e8",
   "metadata": {},
   "outputs": [
    {
     "name": "stdout",
     "output_type": "stream",
     "text": [
      "    0    0    0    0    0    0\n"
     ]
    }
   ],
   "source": [
    "seq(d,len,0,0);\n",
    "dump(d);"
   ]
  },
  {
   "cell_type": "code",
   "execution_count": 11,
   "id": "9e72b7a1-85c4-45e8-9ce1-60410a1b88f4",
   "metadata": {},
   "outputs": [
    {
     "name": "stdout",
     "output_type": "stream",
     "text": [
      "    0    1    2    3    4    5\n"
     ]
    }
   ],
   "source": [
    "seq(d,len,0,1);\n",
    "dump(d);"
   ]
  },
  {
   "cell_type": "code",
   "execution_count": 12,
   "id": "bb52c4c1-87af-435e-a1bc-436f99e3da2e",
   "metadata": {},
   "outputs": [
    {
     "name": "stdout",
     "output_type": "stream",
     "text": [
      "    0    2    4    6    8   10\n"
     ]
    }
   ],
   "source": [
    "seq(d,len,0,2);\n",
    "dump(d);"
   ]
  },
  {
   "cell_type": "code",
   "execution_count": 13,
   "id": "22fe89c8-50f1-4071-ad9e-edd70327984c",
   "metadata": {},
   "outputs": [
    {
     "name": "stdout",
     "output_type": "stream",
     "text": [
      "    1    2    3    1    2    3\n"
     ]
    }
   ],
   "source": [
    "seq(d,len,-2,1);\n",
    "seq(d,3,1,1);\n",
    "dump(d);"
   ]
  },
  {
   "cell_type": "code",
   "execution_count": null,
   "id": "f9471034-1b6d-4071-a8ab-8e519aa75908",
   "metadata": {},
   "outputs": [],
   "source": []
  }
 ],
 "metadata": {
  "kernelspec": {
   "display_name": "C++14",
   "language": "C++14",
   "name": "xcpp14"
  },
  "language_info": {
   "codemirror_mode": "text/x-c++src",
   "file_extension": ".cpp",
   "mimetype": "text/x-c++src",
   "name": "c++",
   "version": "14"
  }
 },
 "nbformat": 4,
 "nbformat_minor": 5
}
