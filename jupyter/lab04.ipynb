{
 "cells": [
  {
   "cell_type": "markdown",
   "id": "a2b1bb1b-4ada-4059-a79f-fd50f6d43521",
   "metadata": {},
   "source": [
    "## 課堂練習 04 - 亂數與陣列的應用"
   ]
  },
  {
   "cell_type": "code",
   "execution_count": 59,
   "id": "a30e1698-8c83-4161-abea-25a20d914964",
   "metadata": {},
   "outputs": [],
   "source": [
    "#include <iostream>\n",
    "#include <iomanip>\n",
    "\n",
    "using namespace std;"
   ]
  },
  {
   "cell_type": "markdown",
   "id": "b371acf7-072c-441f-b304-47bba40930d1",
   "metadata": {
    "tags": []
   },
   "source": [
    "### 陣列輸出函數\n",
    "- d   ：陣列\n",
    "- len ：陣列 d 的長度(幾個元素)\n",
    "- 每一行最多印20個元素，每一筆資料的寬度為4個字元"
   ]
  },
  {
   "cell_type": "code",
   "execution_count": 60,
   "id": "5bf9e566-d519-4319-a9c5-fa9d7b646867",
   "metadata": {
    "tags": []
   },
   "outputs": [],
   "source": [
    "void dump(int d[], int len) {\n",
    "    for(int i=0; i<len; i++) {\n",
    "        cout<<setw(4)<<d[i];\n",
    "        if ((i+1)%20==0)\n",
    "            cout<<endl;\n",
    "    }\n",
    "    cout<<endl;\n",
    "}"
   ]
  },
  {
   "cell_type": "markdown",
   "id": "4acc1d76-91f8-44c5-8258-21c7461510e8",
   "metadata": {},
   "source": [
    "### 產生5個隨機亂數\n",
    "- rand() 回傳介於`0`到`RAND_MAX`的隨機亂數"
   ]
  },
  {
   "cell_type": "code",
   "execution_count": 61,
   "id": "79670cb2-2edd-4652-8e11-504d75caf166",
   "metadata": {},
   "outputs": [
    {
     "name": "stdout",
     "output_type": "stream",
     "text": [
      "RAND_MAX = 2147483647\n",
      "1976753258 634285244 1374191183 75828736 518006743 \n"
     ]
    }
   ],
   "source": [
    "#include <random>\n",
    "\n",
    "void test_rand() {\n",
    "    cout<<\"RAND_MAX = \"<<RAND_MAX<<endl;\n",
    "    for(int i=0; i<5; i++)\n",
    "        cout<<rand()<<\" \";\n",
    "    cout<<endl;\n",
    "}\n",
    "\n",
    "test_rand();"
   ]
  },
  {
   "cell_type": "markdown",
   "id": "a7ba46e1-494e-4e3d-898f-74283abf82df",
   "metadata": {
    "tags": []
   },
   "source": [
    "### 設計一函數回傳`1 ~ 6`的隨機亂數，模擬擲骰子的動作。"
   ]
  },
  {
   "cell_type": "code",
   "execution_count": 62,
   "id": "a5699c08-8845-4f83-a4dd-4cc32cd0c9d8",
   "metadata": {},
   "outputs": [],
   "source": [
    "int dice() {\n",
    "    return rand()%6+1;\n",
    "}"
   ]
  },
  {
   "cell_type": "code",
   "execution_count": 63,
   "id": "f80ce145-6d88-4ee8-961c-51d118e5c119",
   "metadata": {},
   "outputs": [
    {
     "name": "stdout",
     "output_type": "stream",
     "text": [
      "4\n",
      "1\n",
      "3\n"
     ]
    }
   ],
   "source": [
    "cout<<dice()<<endl;\n",
    "cout<<dice()<<endl;\n",
    "cout<<dice()<<endl;"
   ]
  },
  {
   "cell_type": "markdown",
   "id": "948a9314-76dd-4d5d-8179-146480f5c7c8",
   "metadata": {},
   "source": [
    "#### 模擬擲骰子 n 次的結果。"
   ]
  },
  {
   "cell_type": "code",
   "execution_count": 64,
   "id": "6db17297-13ea-41d7-b2ce-f1c2e51c18e3",
   "metadata": {},
   "outputs": [
    {
     "name": "stdout",
     "output_type": "stream",
     "text": [
      "4   1   6   3   2   4   5   4   6   5   4   2   5   3   5   5   4   1   1   1   \n",
      "6   4   4   2   5   3   5   2   1   6   6   6   3   2   1   1   4   4   4   1   \n",
      "2   3   3   1   3   3   2   5   5   2   3   2   5   6   2   4   6   5   3   5   \n",
      "1   1   2   2   3   5   1   2   5   6   3   5   2   6   1   2   3   4   5   3   \n",
      "5   3   3   6   3   1   5   3   4   6   6   3   1   1   5   6   5   2   6   5   \n",
      "\n"
     ]
    }
   ],
   "source": [
    "void test_dice(int n) {\n",
    "    for(int i=0; i<n; i++) {\n",
    "        cout<<left<<setw(4)<<dice();\n",
    "        if ((i+1)%20==0)\n",
    "            cout<<endl;\n",
    "    }\n",
    "    cout<<endl;\n",
    "}\n",
    "\n",
    "test_dice(100);"
   ]
  },
  {
   "cell_type": "markdown",
   "id": "ca674511-654e-4bad-9dcc-6319a7c91c4d",
   "metadata": {
    "tags": []
   },
   "source": [
    "### 設計一函數模擬擲骰子 `len` 次，並將結果存放在 `rn` 陣列。"
   ]
  },
  {
   "cell_type": "code",
   "execution_count": 65,
   "id": "3e4ea298-8800-42d2-a321-895b36a41469",
   "metadata": {},
   "outputs": [],
   "source": [
    "void roll_dice(int rn[], int len) {\n",
    "    for(int i=0; i<len; i++)\n",
    "        rn[i] = dice();\n",
    "}"
   ]
  },
  {
   "cell_type": "code",
   "execution_count": 66,
   "id": "95f51480-d906-40a6-b945-f48e5e2bdbd6",
   "metadata": {},
   "outputs": [
    {
     "name": "stdout",
     "output_type": "stream",
     "text": [
      "3   2   6   3   3   5   1   3   6   1   3   6   1   5   6   3   6   4   6   1   \n",
      "1   1   6   1   6   6   4   5   3   4   1   3   3   6   6   6   4   4   2   1   \n",
      "5   4   6   5   6   4   6   5   1   3   3   5   1   3   5   6   2   2   5   2   \n",
      "4   5   3   6   4   6   3   6   3   4   6   5   6   4   4   5   5   1   4   5   \n",
      "3   4   4   4   6   6   1   6   6   3   5   3   1   5   6   3   4   3   6   5   \n",
      "\n"
     ]
    }
   ],
   "source": [
    "const int LEN = 100;\n",
    "int rd[LEN];\n",
    "\n",
    "roll_dice(rd,LEN);\n",
    "dump(rd,LEN);"
   ]
  },
  {
   "cell_type": "markdown",
   "id": "06f8dddf-9173-448f-b0ca-a590870b5bbd",
   "metadata": {
    "tags": []
   },
   "source": [
    "### 設計一函數分析擲骰子結果，並將分析結果存放在 `cnt` 陣列。\n",
    "- rn ： 模擬擲骰子 `len` 次的結果\n",
    "- len： 模擬擲骰子的次數\n",
    "- cnt： 存放分析結果的陣列\n",
    "    - cnt[0]：模擬次數\n",
    "    - cnt[1] ~ cnt[6]：依序存放`1 ~ 6`出現的次數"
   ]
  },
  {
   "cell_type": "code",
   "execution_count": 67,
   "id": "e13b2861-fa90-4675-a603-020c0535f28f",
   "metadata": {},
   "outputs": [],
   "source": [
    "void analysis(int rn[], int len, int cnt[]) {\n",
    "    for(int i=0; i<7; i++)\n",
    "        cnt[i] = 0;\n",
    "    cnt[0] = len;\n",
    "    for(int i=0; i<len; i++) \n",
    "        cnt[rn[i]]++;\n",
    "}"
   ]
  },
  {
   "cell_type": "code",
   "execution_count": 68,
   "id": "6fe4e299-55dc-4123-94b8-f5644fdf5994",
   "metadata": {},
   "outputs": [
    {
     "name": "stdout",
     "output_type": "stream",
     "text": [
      "21  1   2   3   4   5   6   \n"
     ]
    }
   ],
   "source": [
    "int result[7];\n",
    "int dat[] = {1,2,2,3,3,3,4,4,4,4,5,5,5,5,5,6,6,6,6,6,6};\n",
    "\n",
    "analysis(dat,sizeof(dat)/sizeof(int),result);\n",
    "dump(result,7);"
   ]
  },
  {
   "cell_type": "code",
   "execution_count": 69,
   "id": "0067ff93-7e7b-4303-bb61-c7eaa2520812",
   "metadata": {},
   "outputs": [
    {
     "name": "stdout",
     "output_type": "stream",
     "text": [
      "2   2   5   5   1   6   1   5   1   5   6   6   4   2   4   6   6   3   4   1   \n",
      "5   5   3   5   1   5   2   6   2   1   3   3   3   1   2   3   1   6   5   5   \n",
      "5   2   4   6   3   1   5   6   2   6   1   4   2   1   3   3   5   2   6   6   \n",
      "3   2   2   3   6   1   5   4   1   1   2   3   2   3   6   2   2   2   1   3   \n",
      "5   5   6   1   5   2   1   3   4   6   6   4   1   6   6   6   6   2   4   4   \n",
      "\n",
      "100 18  19  15  10  17  21  \n"
     ]
    }
   ],
   "source": [
    "const int LEN = 100;\n",
    "int rd[LEN];\n",
    "int cd[7];\n",
    "\n",
    "roll_dice(rd,LEN);\n",
    "analysis(rd,LEN,cd);\n",
    "dump(rd,LEN);\n",
    "dump(cd,7);"
   ]
  }
 ],
 "metadata": {
  "kernelspec": {
   "display_name": "C++14",
   "language": "C++14",
   "name": "xcpp14"
  },
  "language_info": {
   "codemirror_mode": "text/x-c++src",
   "file_extension": ".cpp",
   "mimetype": "text/x-c++src",
   "name": "c++",
   "version": "14"
  }
 },
 "nbformat": 4,
 "nbformat_minor": 5
}
