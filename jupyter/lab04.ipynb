{
 "cells": [
  {
   "cell_type": "code",
   "execution_count": 45,
   "id": "a30e1698-8c83-4161-abea-25a20d914964",
   "metadata": {},
   "outputs": [],
   "source": [
    "#include <iostream>\n",
    "#include <iomanip>\n",
    "\n",
    "using namespace std;"
   ]
  },
  {
   "cell_type": "code",
   "execution_count": 46,
   "id": "5bf9e566-d519-4319-a9c5-fa9d7b646867",
   "metadata": {
    "tags": []
   },
   "outputs": [],
   "source": [
    "void dump(int d[], int len) {\n",
    "    for(int i=0; i<len; i++) {\n",
    "        cout<<setw(4)<<d[i];\n",
    "        if ((i+1)%20==0)\n",
    "            cout<<endl;\n",
    "    }\n",
    "    cout<<endl;\n",
    "}"
   ]
  },
  {
   "cell_type": "code",
   "execution_count": 47,
   "id": "79670cb2-2edd-4652-8e11-504d75caf166",
   "metadata": {},
   "outputs": [
    {
     "name": "stdout",
     "output_type": "stream",
     "text": [
      "277781481 1753806604 804940598 1974746577 236199409 \n"
     ]
    }
   ],
   "source": [
    "#include <random>\n",
    "\n",
    "void test_rand() {\n",
    "    for(int i=0; i<5; i++)\n",
    "        cout<<rand()<<\" \";\n",
    "    cout<<endl;\n",
    "}\n",
    "\n",
    "test_rand();"
   ]
  },
  {
   "cell_type": "code",
   "execution_count": 48,
   "id": "a5699c08-8845-4f83-a4dd-4cc32cd0c9d8",
   "metadata": {},
   "outputs": [],
   "source": [
    "int dice() {\n",
    "    return rand()%6+1;\n",
    "}"
   ]
  },
  {
   "cell_type": "code",
   "execution_count": 49,
   "id": "f80ce145-6d88-4ee8-961c-51d118e5c119",
   "metadata": {},
   "outputs": [
    {
     "name": "stdout",
     "output_type": "stream",
     "text": [
      "6\n",
      "1\n",
      "2\n"
     ]
    }
   ],
   "source": [
    "cout<<dice()<<endl;\n",
    "cout<<dice()<<endl;\n",
    "cout<<dice()<<endl;"
   ]
  },
  {
   "cell_type": "code",
   "execution_count": 50,
   "id": "6db17297-13ea-41d7-b2ce-f1c2e51c18e3",
   "metadata": {},
   "outputs": [
    {
     "name": "stdout",
     "output_type": "stream",
     "text": [
      "5   3   4   4   3   5   2   4   5   5   1   3   5   6   4   6   1   1   2   1   \n",
      "6   6   4   6   2   2   2   5   1   2   4   3   6   1   6   4   1   5   6   1   \n",
      "4   4   6   1   2   5   1   5   5   1   6   2   2   5   3   3   5   6   5   2   \n",
      "6   4   4   5   4   6   2   5   4   3   1   3   5   1   4   4   4   3   5   1   \n",
      "2   2   2   1   1   3   4   6   6   1   1   6   2   1   6   3   5   3   3   3   \n",
      "\n"
     ]
    }
   ],
   "source": [
    "void test_dice(int n) {\n",
    "    for(int i=0; i<n; i++) {\n",
    "        cout<<left<<setw(4)<<dice();\n",
    "        if ((i+1)%20==0)\n",
    "            cout<<endl;\n",
    "    }\n",
    "    cout<<endl;\n",
    "}\n",
    "\n",
    "test_dice(100);"
   ]
  },
  {
   "cell_type": "code",
   "execution_count": 53,
   "id": "3e4ea298-8800-42d2-a321-895b36a41469",
   "metadata": {},
   "outputs": [],
   "source": [
    "void roll_dice(int rn[], int len) {\n",
    "    for(int i=0; i<len; i++)\n",
    "        rn[i] = dice();\n",
    "}"
   ]
  },
  {
   "cell_type": "code",
   "execution_count": 54,
   "id": "95f51480-d906-40a6-b945-f48e5e2bdbd6",
   "metadata": {},
   "outputs": [
    {
     "name": "stdout",
     "output_type": "stream",
     "text": [
      "1   3   3   3   6   2   2   2   3   1   2   1   1   6   5   4   2   4   3   2   \n",
      "3   6   6   6   4   3   1   6   2   2   3   2   2   3   2   1   4   1   1   1   \n",
      "1   2   5   5   5   1   2   6   3   4   2   5   1   5   4   3   1   2   2   6   \n",
      "3   2   1   4   4   6   2   1   1   2   5   5   3   2   4   6   2   3   5   2   \n",
      "5   6   4   5   4   5   1   2   6   2   1   6   3   5   1   4   5   3   3   3   \n",
      "\n"
     ]
    }
   ],
   "source": [
    "const int LEN = 100;\n",
    "int rd[LEN];\n",
    "\n",
    "roll_dice(rd,LEN);\n",
    "dump(rd,LEN);"
   ]
  },
  {
   "cell_type": "code",
   "execution_count": 51,
   "id": "e13b2861-fa90-4675-a603-020c0535f28f",
   "metadata": {},
   "outputs": [],
   "source": [
    "void analysis(int rn[], int len, int cnt[]) {\n",
    "    for(int i=0; i<7; i++)\n",
    "        cnt[i] = 0;\n",
    "    cnt[0] = len;\n",
    "    for(int i=0; i<len; i++) \n",
    "        cnt[rn[i]]++;\n",
    "}"
   ]
  },
  {
   "cell_type": "code",
   "execution_count": 55,
   "id": "6fe4e299-55dc-4123-94b8-f5644fdf5994",
   "metadata": {},
   "outputs": [
    {
     "name": "stdout",
     "output_type": "stream",
     "text": [
      "21  1   2   3   4   5   6   \n"
     ]
    }
   ],
   "source": [
    "int result[7];\n",
    "int dat[] = {1,2,2,3,3,3,4,4,4,4,5,5,5,5,5,6,6,6,6,6,6};\n",
    "\n",
    "analysis(dat,sizeof(dat)/sizeof(int),result);\n",
    "dump(result,7);"
   ]
  },
  {
   "cell_type": "code",
   "execution_count": 56,
   "id": "0067ff93-7e7b-4303-bb61-c7eaa2520812",
   "metadata": {},
   "outputs": [
    {
     "name": "stdout",
     "output_type": "stream",
     "text": [
      "6   2   2   2   2   5   6   6   5   4   6   4   6   3   2   3   3   5   5   2   \n",
      "6   4   3   2   6   4   2   1   1   1   1   6   3   2   6   2   4   5   1   2   \n",
      "1   6   3   4   1   3   6   3   5   4   5   4   1   5   3   4   2   4   4   2   \n",
      "5   5   5   5   4   2   6   2   5   1   1   5   4   4   2   4   6   1   1   4   \n",
      "2   3   6   6   1   2   3   6   6   4   5   4   2   1   6   4   3   5   5   1   \n",
      "\n",
      "100 15  19  12  19  17  18  \n"
     ]
    }
   ],
   "source": [
    "const int LEN = 100;\n",
    "int rd[LEN];\n",
    "int cd[7];\n",
    "\n",
    "roll_dice(rd,LEN);\n",
    "analysis(rd,LEN,cd);\n",
    "dump(rd,LEN);\n",
    "dump(cd,7);"
   ]
  },
  {
   "cell_type": "code",
   "execution_count": null,
   "id": "001735b9-571a-4e4d-8991-79d0190cdab1",
   "metadata": {},
   "outputs": [],
   "source": []
  }
 ],
 "metadata": {
  "kernelspec": {
   "display_name": "C++14",
   "language": "C++14",
   "name": "xcpp14"
  },
  "language_info": {
   "codemirror_mode": "text/x-c++src",
   "file_extension": ".cpp",
   "mimetype": "text/x-c++src",
   "name": "c++",
   "version": "14"
  }
 },
 "nbformat": 4,
 "nbformat_minor": 5
}
