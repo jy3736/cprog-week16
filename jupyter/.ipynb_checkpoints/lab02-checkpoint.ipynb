{
 "cells": [
  {
   "cell_type": "markdown",
   "id": "767ab8f9-de2b-4af3-8ead-3bb8b62745fb",
   "metadata": {},
   "source": [
    "## 課堂練習 02 - 一維陣列填入特定數列"
   ]
  },
  {
   "cell_type": "code",
   "execution_count": 65,
   "id": "a30e1698-8c83-4161-abea-25a20d914964",
   "metadata": {},
   "outputs": [],
   "source": [
    "#include <iostream>\n",
    "#include <iomanip>\n",
    "\n",
    "using namespace std;"
   ]
  },
  {
   "cell_type": "markdown",
   "id": "69efdcef-dc72-475f-803d-6a33cb37515f",
   "metadata": {
    "tags": []
   },
   "source": [
    "### 陣列輸出函數\n",
    "- d   ：陣列\n",
    "- len ：陣列 d 的長度(幾個元素)\n",
    "- 每一行最多印20個元素，每一筆資料的寬度為4個字元"
   ]
  },
  {
   "cell_type": "code",
   "execution_count": 66,
   "id": "5bf9e566-d519-4319-a9c5-fa9d7b646867",
   "metadata": {
    "tags": []
   },
   "outputs": [],
   "source": [
    "void dump(int d[], int len) {\n",
    "    for(int i=0; i<len; i++) {\n",
    "        cout<<setw(4)<<d[i];\n",
    "        if ((i+1)%20==0)\n",
    "            cout<<endl;\n",
    "    }\n",
    "    cout<<endl;\n",
    "}"
   ]
  },
  {
   "cell_type": "markdown",
   "id": "3bcc584d-02d7-48bf-ad45-e409da49912b",
   "metadata": {},
   "source": [
    "### 將特定數列填入陣列的函數\n",
    "- d    ：陣列\n",
    "- len  ：陣列 d 的長度(幾個元素)\n",
    "- start：數列的起始值\n",
    "- step ：數列的步階(間距)"
   ]
  },
  {
   "cell_type": "code",
   "execution_count": 67,
   "id": "4f6733a9-8991-494e-a126-df46f15e5f8d",
   "metadata": {},
   "outputs": [],
   "source": [
    "void seq(int d[], int len, int start, int step) {\n",
    "    for(int i=0; i<len; i++) {\n",
    "        d[i] = start;\n",
    "        start+=step;\n",
    "    }\n",
    "}"
   ]
  },
  {
   "cell_type": "code",
   "execution_count": 68,
   "id": "009e1b97-6932-4ac9-87bd-e1a64d8954b8",
   "metadata": {},
   "outputs": [
    {
     "name": "stdout",
     "output_type": "stream",
     "text": [
      "   1   2   3   4   5   6   7   8   9  10  11  12  13  14  15\n"
     ]
    }
   ],
   "source": [
    "int a1[15];\n",
    "seq(a1,15,1,1);\n",
    "dump(a1,15);"
   ]
  },
  {
   "cell_type": "code",
   "execution_count": 69,
   "id": "404a6f15-1cc8-4248-a81e-ed8ab2a51080",
   "metadata": {},
   "outputs": [
    {
     "name": "stdout",
     "output_type": "stream",
     "text": [
      "   1   1   1   1   1   1   1   1   1   1   1   1   1   1   1\n"
     ]
    }
   ],
   "source": [
    "int a1[15];\n",
    "seq(a1,15,1,0);\n",
    "dump(a1,15);"
   ]
  },
  {
   "cell_type": "code",
   "execution_count": 70,
   "id": "4ac3f4b6-565a-43c3-9d16-b9d0e1a31c05",
   "metadata": {},
   "outputs": [
    {
     "name": "stdout",
     "output_type": "stream",
     "text": [
      "   1   3   5   7   9  11  13  15  17  19  21  23  25  27  29\n"
     ]
    }
   ],
   "source": [
    "int a1[15];\n",
    "seq(a1,15,1,2);\n",
    "dump(a1,15);"
   ]
  },
  {
   "cell_type": "markdown",
   "id": "a863ca44-1ea0-4b3c-8b06-2c161a27d9c6",
   "metadata": {},
   "source": [
    "### 使用 `seq(...)` 函數完成 `fill(...)` 的設計"
   ]
  },
  {
   "cell_type": "code",
   "execution_count": 71,
   "id": "5deccba6-f5e8-4a09-b183-df2137764676",
   "metadata": {},
   "outputs": [],
   "source": [
    "void fill(int d[], int len, int val) {\n",
    "    seq(d,len,val,0);    \n",
    "}"
   ]
  },
  {
   "cell_type": "markdown",
   "id": "e746ab00-47e9-432d-952a-9c1bd8b8c1ce",
   "metadata": {},
   "source": [
    "### 使用 `seq(...)` 函數完成 `zero(...)` 的設計"
   ]
  },
  {
   "cell_type": "code",
   "execution_count": 72,
   "id": "04f4c1d4-e676-4cb3-bf02-c7074ddeeee7",
   "metadata": {},
   "outputs": [],
   "source": [
    "void zero(int d[], int len) {\n",
    "    seq(d,len,0,0);    \n",
    "}"
   ]
  },
  {
   "cell_type": "code",
   "execution_count": 73,
   "id": "2baed6e5-9b7b-40b7-b98c-ec7b9146dd4a",
   "metadata": {},
   "outputs": [
    {
     "name": "stdout",
     "output_type": "stream",
     "text": [
      " 123 123 123 123 123 123 123 123 123 123\n"
     ]
    }
   ],
   "source": [
    "int a2[10];\n",
    "fill(a2,10,123);\n",
    "dump(a2,10);"
   ]
  },
  {
   "cell_type": "code",
   "execution_count": 74,
   "id": "b8baed58-9d48-467e-8048-9836e5fbdeaf",
   "metadata": {},
   "outputs": [
    {
     "name": "stdout",
     "output_type": "stream",
     "text": [
      "  56  56  56  56  56  56  56  56  56  56\n"
     ]
    }
   ],
   "source": [
    "int a2[10];\n",
    "fill(a2,10,56);\n",
    "dump(a2,10);"
   ]
  },
  {
   "cell_type": "code",
   "execution_count": 75,
   "id": "b1996b71-2bc1-40fa-94df-0adeb94196df",
   "metadata": {},
   "outputs": [
    {
     "name": "stdout",
     "output_type": "stream",
     "text": [
      "   0   0   0   0   0   0   0   0   0   0\n"
     ]
    }
   ],
   "source": [
    "int a3[10];\n",
    "zero(a3,10);\n",
    "dump(a3,10);"
   ]
  },
  {
   "cell_type": "code",
   "execution_count": 76,
   "id": "80267807-4702-40bb-9053-44e65e655402",
   "metadata": {},
   "outputs": [
    {
     "name": "stdout",
     "output_type": "stream",
     "text": [
      "   1   1   1   1   1   0   0   0   0   0\n"
     ]
    }
   ],
   "source": [
    "int a3[10];\n",
    "zero(a3,10);\n",
    "fill(a3,5,1);\n",
    "dump(a3,10);"
   ]
  },
  {
   "cell_type": "code",
   "execution_count": 77,
   "id": "31b0e3ff-4700-48b2-846c-030ae4a4aadf",
   "metadata": {},
   "outputs": [
    {
     "name": "stdout",
     "output_type": "stream",
     "text": [
      "   0   0   0   0   0   1   1   1   1   1\n"
     ]
    }
   ],
   "source": [
    "int a3[10];\n",
    "fill(a3,10,1);\n",
    "zero(a3,5);\n",
    "dump(a3,10);"
   ]
  },
  {
   "cell_type": "code",
   "execution_count": 78,
   "id": "97941d71-74b3-48c6-9ba9-06f171405569",
   "metadata": {},
   "outputs": [
    {
     "name": "stdout",
     "output_type": "stream",
     "text": [
      "   5   4   3   2   1   0   0   0   0   0   1   2   3   4   5\n"
     ]
    }
   ],
   "source": [
    "int a4[15];\n",
    "seq(a4,15,-9,1);\n",
    "zero(a4,10);\n",
    "seq(a4,5,5,-1);\n",
    "dump(a4,15);"
   ]
  }
 ],
 "metadata": {
  "kernelspec": {
   "display_name": "C++14",
   "language": "C++14",
   "name": "xcpp14"
  },
  "language_info": {
   "codemirror_mode": "text/x-c++src",
   "file_extension": ".cpp",
   "mimetype": "text/x-c++src",
   "name": "c++",
   "version": "14"
  }
 },
 "nbformat": 4,
 "nbformat_minor": 5
}
