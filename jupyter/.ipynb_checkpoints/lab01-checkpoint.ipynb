{
 "cells": [
  {
   "cell_type": "code",
   "execution_count": 1,
   "id": "a30e1698-8c83-4161-abea-25a20d914964",
   "metadata": {},
   "outputs": [],
   "source": [
    "#include <iostream>\n",
    "#include <iomanip>\n",
    "\n",
    "using namespace std;"
   ]
  },
  {
   "cell_type": "code",
   "execution_count": 8,
   "id": "cbddf83c-4732-49ec-9d28-8e30d856c3ac",
   "metadata": {},
   "outputs": [],
   "source": [
    "int a1[6] = {1, 4, 2, 5, 6, 7};"
   ]
  },
  {
   "cell_type": "code",
   "execution_count": 9,
   "id": "8978f496-a220-42a0-9bd8-4c7bfdd1aab2",
   "metadata": {},
   "outputs": [
    {
     "name": "stdout",
     "output_type": "stream",
     "text": [
      "a1[0] = 1\n",
      "a1[1] = 4\n",
      "a1[2] = 2\n",
      "a1[3] = 5\n",
      "a1[4] = 6\n",
      "a1[5] = 7\n"
     ]
    }
   ],
   "source": [
    "cout<<\"a1[0] = \"<<a1[0]<<endl;\n",
    "cout<<\"a1[1] = \"<<a1[1]<<endl;\n",
    "cout<<\"a1[2] = \"<<a1[2]<<endl;\n",
    "cout<<\"a1[3] = \"<<a1[3]<<endl;\n",
    "cout<<\"a1[4] = \"<<a1[4]<<endl;\n",
    "cout<<\"a1[5] = \"<<a1[5]<<endl;"
   ]
  },
  {
   "cell_type": "code",
   "execution_count": 10,
   "id": "e4c5d0be-c787-4d72-9b70-1b4f5f7ad929",
   "metadata": {},
   "outputs": [
    {
     "name": "stdout",
     "output_type": "stream",
     "text": [
      "a1[0] = 6\n",
      "a1[1] = 66\n",
      "a1[2] = 666\n"
     ]
    }
   ],
   "source": [
    "a1[0] = 6;\n",
    "a1[1] = 66;\n",
    "a1[2] = 666;\n",
    "cout<<\"a1[0] = \"<<a1[0]<<endl;\n",
    "cout<<\"a1[1] = \"<<a1[1]<<endl;\n",
    "cout<<\"a1[2] = \"<<a1[2]<<endl;"
   ]
  },
  {
   "cell_type": "code",
   "execution_count": 45,
   "id": "5bf9e566-d519-4319-a9c5-fa9d7b646867",
   "metadata": {
    "tags": []
   },
   "outputs": [],
   "source": [
    "void dump(int d[], int len) {\n",
    "    for(int i=0; i<len; i++) {\n",
    "        cout<<setw(4)<<d[i];\n",
    "        if ((i+1)%20==0)\n",
    "            cout<<endl;\n",
    "    }\n",
    "    cout<<endl;\n",
    "}"
   ]
  },
  {
   "cell_type": "code",
   "execution_count": 46,
   "id": "d15aef8c-328a-4974-b497-828607ee9c9e",
   "metadata": {},
   "outputs": [
    {
     "name": "stdout",
     "output_type": "stream",
     "text": [
      "   6  66 666   5   6   7\n"
     ]
    }
   ],
   "source": [
    "dump(a1,6);"
   ]
  },
  {
   "cell_type": "code",
   "execution_count": 47,
   "id": "554ede28-3563-47d1-bb3e-41c443e74af9",
   "metadata": {},
   "outputs": [
    {
     "name": "stdout",
     "output_type": "stream",
     "text": [
      "   6  66 666\n"
     ]
    }
   ],
   "source": [
    "dump(a1,3);"
   ]
  },
  {
   "cell_type": "code",
   "execution_count": 48,
   "id": "525c68f7-773f-4eb7-bc3d-cad3c3e3b42c",
   "metadata": {
    "tags": []
   },
   "outputs": [],
   "source": [
    "void fill(int d[], int len, int val) {\n",
    "    for(int i=0; i<len; i++)\n",
    "        d[i] = val;    \n",
    "}"
   ]
  },
  {
   "cell_type": "code",
   "execution_count": 49,
   "id": "109bdd4a-4672-4f49-a378-13cbb080c98a",
   "metadata": {},
   "outputs": [
    {
     "name": "stdout",
     "output_type": "stream",
     "text": [
      "  88  88  88  88  88  88  88  88  88  88\n"
     ]
    }
   ],
   "source": [
    "int a2[10];\n",
    "fill(a2,10,88);\n",
    "dump(a2,10);"
   ]
  },
  {
   "cell_type": "code",
   "execution_count": 50,
   "id": "791a2583-6fd3-47c1-a666-346edb1ba5ee",
   "metadata": {},
   "outputs": [
    {
     "name": "stdout",
     "output_type": "stream",
     "text": [
      "   0   0   0   0   0   0   0   0   0   0\n"
     ]
    }
   ],
   "source": [
    "fill(a2,10,0);\n",
    "dump(a2,10);"
   ]
  },
  {
   "cell_type": "code",
   "execution_count": 51,
   "id": "3342851e-f939-408d-829b-f41a58484383",
   "metadata": {},
   "outputs": [],
   "source": [
    "void zero(int d[], int len) {\n",
    "    fill(d,len,0);\n",
    "}"
   ]
  },
  {
   "cell_type": "code",
   "execution_count": 52,
   "id": "e698ede6-1730-48e8-9bda-a1ccccc87cf0",
   "metadata": {},
   "outputs": [
    {
     "name": "stdout",
     "output_type": "stream",
     "text": [
      "   0   0   0   0   0   0   0   0   0   0   0   0   0   0   0\n"
     ]
    }
   ],
   "source": [
    "int a3[15];\n",
    "zero(a3,15);\n",
    "dump(a3,15);"
   ]
  },
  {
   "cell_type": "code",
   "execution_count": 53,
   "id": "78e11e84-dc8b-4bc3-9852-a74726ab9425",
   "metadata": {},
   "outputs": [],
   "source": [
    "void seven(int d[], int len) {\n",
    "    fill(d,len,7);\n",
    "}"
   ]
  },
  {
   "cell_type": "code",
   "execution_count": 54,
   "id": "65b884bd-10f4-49a9-ad08-ba526def876f",
   "metadata": {},
   "outputs": [
    {
     "name": "stdout",
     "output_type": "stream",
     "text": [
      "   7   7   7   7   7   7   7   7   7   7\n"
     ]
    }
   ],
   "source": [
    "int a4[10];\n",
    "seven(a4,10);\n",
    "dump(a4,10);"
   ]
  },
  {
   "cell_type": "code",
   "execution_count": null,
   "id": "b725554e-00a2-46ef-9bab-7dd5daf2def2",
   "metadata": {},
   "outputs": [],
   "source": []
  },
  {
   "cell_type": "code",
   "execution_count": null,
   "id": "d0622a42-d817-4acb-887f-dd1d04d74c49",
   "metadata": {},
   "outputs": [],
   "source": []
  }
 ],
 "metadata": {
  "kernelspec": {
   "display_name": "C++14",
   "language": "C++14",
   "name": "xcpp14"
  },
  "language_info": {
   "codemirror_mode": "text/x-c++src",
   "file_extension": ".cpp",
   "mimetype": "text/x-c++src",
   "name": "c++",
   "version": "14"
  }
 },
 "nbformat": 4,
 "nbformat_minor": 5
}
