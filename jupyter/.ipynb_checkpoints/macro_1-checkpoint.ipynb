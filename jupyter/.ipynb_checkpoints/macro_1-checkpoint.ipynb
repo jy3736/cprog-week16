{
 "cells": [
  {
   "cell_type": "code",
   "execution_count": 35,
   "id": "a30e1698-8c83-4161-abea-25a20d914964",
   "metadata": {},
   "outputs": [],
   "source": [
    "#include <iostream>\n",
    "#include <iomanip>\n",
    "\n",
    "using namespace std;"
   ]
  },
  {
   "cell_type": "code",
   "execution_count": 36,
   "id": "cbddf83c-4732-49ec-9d28-8e30d856c3ac",
   "metadata": {},
   "outputs": [],
   "source": [
    "int a1[6] = {1, 4, 2, 5, 6, 7};\n",
    "int a2[] = {1, 4, 2, 5, 6, 7, 8, 9};"
   ]
  },
  {
   "cell_type": "code",
   "execution_count": 37,
   "id": "5bf9e566-d519-4319-a9c5-fa9d7b646867",
   "metadata": {
    "tags": []
   },
   "outputs": [],
   "source": [
    "void dump(int d[], int len) {\n",
    "    for(int i=0; i<len; i++) {\n",
    "        cout<<setw(4)<<d[i];\n",
    "        if ((i+1)%20==0)\n",
    "            cout<<endl;\n",
    "    }\n",
    "    cout<<endl;\n",
    "}"
   ]
  },
  {
   "cell_type": "code",
   "execution_count": 38,
   "id": "98b5492f-7b37-4f31-a12d-07bdc7c046e7",
   "metadata": {},
   "outputs": [
    {
     "name": "stdout",
     "output_type": "stream",
     "text": [
      "    1    4    2    5    6    7\n",
      "    1    4    2    5    6    7    8    9\n",
      "6\n",
      "8\n",
      "    1    4    2    5    6    7\n",
      "    1    4    2    5    6    7    8    9\n"
     ]
    }
   ],
   "source": [
    "dumpIntArray(a1,6);\n",
    "dumpIntArray(a2,8);\n",
    "cout<<sizeof(a1)/sizeof(int)<<endl;\n",
    "cout<<sizeof(a2)/sizeof(int)<<endl;\n",
    "dumpIntArray(a1,sizeof(a1)/sizeof(int));\n",
    "dumpIntArray(a2,sizeof(a2)/sizeof(int));"
   ]
  },
  {
   "cell_type": "code",
   "execution_count": 39,
   "id": "2db58b9e-e88f-470e-89dd-8204611e1cfd",
   "metadata": {},
   "outputs": [],
   "source": [
    "void zeros(int d[], int len) {\n",
    "    for(int i=0; i<len; i++)\n",
    "        d[i] = 0;\n",
    "}"
   ]
  },
  {
   "cell_type": "code",
   "execution_count": 40,
   "id": "ce2ce108-1976-4f7d-8b5e-472a77d2c58d",
   "metadata": {},
   "outputs": [
    {
     "name": "stdout",
     "output_type": "stream",
     "text": [
      "   0   0   0   0   0   0   0   0   0   0   0   0   0   0   0\n"
     ]
    }
   ],
   "source": [
    "int a3[15];\n",
    "zeros(a3,sizeof(a3)/sizeof(int));\n",
    "dump(a3,sizeof(a3)/sizeof(int));"
   ]
  },
  {
   "cell_type": "code",
   "execution_count": 41,
   "id": "2c2e25f5-013c-4e88-a8da-5ca82dc9b8ac",
   "metadata": {},
   "outputs": [
    {
     "name": "stdout",
     "output_type": "stream",
     "text": [
      "   0   0   0   0   0   0   0   0   0   0   0   0   0   0   0\n"
     ]
    }
   ],
   "source": [
    "#define passArray(a) a, sizeof(a)/sizeof(int)\n",
    "\n",
    "int a4[15];\n",
    "zeros(passArray(a4));\n",
    "dump(passArray(a4));"
   ]
  },
  {
   "cell_type": "code",
   "execution_count": 42,
   "id": "cc136871-f3d4-48b9-9316-8fd543f69c1d",
   "metadata": {},
   "outputs": [
    {
     "name": "stdout",
     "output_type": "stream",
     "text": [
      "   0   0   0   0   0   0   0   0   0   0\n"
     ]
    }
   ],
   "source": [
    "#define M_dump(a) dump(a,sizeof(a)/sizeof(int))\n",
    "#define M_zeros(a) zeros(a,sizeof(a)/sizeof(int))\n",
    "\n",
    "int a5[10];\n",
    "M_zeros(a5);\n",
    "M_dump(a5);"
   ]
  },
  {
   "cell_type": "code",
   "execution_count": null,
   "id": "c0fb52c0-af9a-4739-af3a-fa4cfe96f67e",
   "metadata": {},
   "outputs": [],
   "source": []
  },
  {
   "cell_type": "code",
   "execution_count": null,
   "id": "66e13fdf-4f8a-4195-a132-9d579f344b91",
   "metadata": {},
   "outputs": [],
   "source": []
  }
 ],
 "metadata": {
  "kernelspec": {
   "display_name": "C++14",
   "language": "C++14",
   "name": "xcpp14"
  },
  "language_info": {
   "codemirror_mode": "text/x-c++src",
   "file_extension": ".cpp",
   "mimetype": "text/x-c++src",
   "name": "c++",
   "version": "14"
  }
 },
 "nbformat": 4,
 "nbformat_minor": 5
}
