{
 "cells": [
  {
   "cell_type": "code",
   "execution_count": 35,
   "id": "a30e1698-8c83-4161-abea-25a20d914964",
   "metadata": {},
   "outputs": [],
   "source": [
    "#include <iostream>\n",
    "#include <iomanip>\n",
    "\n",
    "using namespace std;"
   ]
  },
  {
   "cell_type": "code",
   "execution_count": 36,
   "id": "cbddf83c-4732-49ec-9d28-8e30d856c3ac",
   "metadata": {},
   "outputs": [],
   "source": [
    "int a1[6] = {1, 4, 2, 5, 6, 7};\n",
    "int a2[] = {1, 4, 2, 5, 6, 7, 8, 9};"
   ]
  },
  {
   "cell_type": "code",
   "execution_count": 43,
   "id": "5bf9e566-d519-4319-a9c5-fa9d7b646867",
   "metadata": {
    "tags": []
   },
   "outputs": [],
   "source": [
    "void dump(int d[], int len) {\n",
    "    for(int i=0; i<len; i++) {\n",
    "        cout<<setw(4)<<d[i];\n",
    "        if ((i+1)%20==0)\n",
    "            cout<<endl;\n",
    "    }\n",
    "    cout<<endl;\n",
    "}"
   ]
  },
  {
   "cell_type": "code",
   "execution_count": 52,
   "id": "98b5492f-7b37-4f31-a12d-07bdc7c046e7",
   "metadata": {},
   "outputs": [
    {
     "name": "stdout",
     "output_type": "stream",
     "text": [
      "   1   4   2   5   6   7\n",
      "   1   4   2   5   6   7   8   9\n",
      "6\n",
      "8\n",
      "   1   4   2   5   6   7\n",
      "   1   4   2   5   6   7   8   9\n"
     ]
    }
   ],
   "source": [
    "dump(a1,6);\n",
    "dump(a2,8);\n",
    "\n",
    "cout<<sizeof(a1)/sizeof(int)<<endl;\n",
    "cout<<sizeof(a2)/sizeof(int)<<endl;\n",
    "int a1_len = sizeof(a1)/sizeof(int);\n",
    "int a2_len = sizeof(a2)/sizeof(int);\n",
    "\n",
    "dump(a1,a1_len);\n",
    "dump(a2,a2_len);"
   ]
  },
  {
   "cell_type": "code",
   "execution_count": 53,
   "id": "ce2ce108-1976-4f7d-8b5e-472a77d2c58d",
   "metadata": {},
   "outputs": [
    {
     "name": "stdout",
     "output_type": "stream",
     "text": [
      "   1   4   3   6   7   8   9   0   2\n"
     ]
    }
   ],
   "source": [
    "int a3[] = {1,4,3,6,7,8,9,0,2};\n",
    "dump(a3,sizeof(a3)/sizeof(int));"
   ]
  },
  {
   "cell_type": "code",
   "execution_count": 54,
   "id": "cc136871-f3d4-48b9-9316-8fd543f69c1d",
   "metadata": {},
   "outputs": [
    {
     "name": "stdout",
     "output_type": "stream",
     "text": [
      "   3   4   5   3   2   4   5   6   7   8   9\n",
      "   5   5   5   5   5   5   5\n",
      "   1   2   3   4   5   6\n"
     ]
    }
   ],
   "source": [
    "#define M_dump(a) dump(a,sizeof(a)/sizeof(int))\n",
    "\n",
    "int a4[] = {3,4,5,3,2,4,5,6,7,8,9};\n",
    "int a5[] = {5,5,5,5,5,5,5};\n",
    "int a6[] = {1,2,3,4,5,6};\n",
    "\n",
    "M_dump(a4);   // dump(a4,sizeof(a4)/sizeof(int))\n",
    "M_dump(a5);   \n",
    "M_dump(a6);   "
   ]
  },
  {
   "cell_type": "code",
   "execution_count": null,
   "id": "66e13fdf-4f8a-4195-a132-9d579f344b91",
   "metadata": {},
   "outputs": [],
   "source": []
  }
 ],
 "metadata": {
  "kernelspec": {
   "display_name": "C++14",
   "language": "C++14",
   "name": "xcpp14"
  },
  "language_info": {
   "codemirror_mode": "text/x-c++src",
   "file_extension": ".cpp",
   "mimetype": "text/x-c++src",
   "name": "c++",
   "version": "14"
  }
 },
 "nbformat": 4,
 "nbformat_minor": 5
}
